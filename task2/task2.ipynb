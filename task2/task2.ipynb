{
 "cells": [
  {
   "cell_type": "markdown",
   "id": "97659da6",
   "metadata": {},
   "source": [
    "\n",
    "!pip install dash pandas plotly"
   ]
  },
  {
   "cell_type": "code",
   "execution_count": null,
   "id": "f026d43b",
   "metadata": {},
   "outputs": [
    {
     "name": "stdout",
     "output_type": "stream",
     "text": [
      "All packages installed successfully!\n",
      "Please restart the kernel and run all cells\n"
     ]
    }
   ],
   "source": [
    "# System-level package installation\n",
    "import sys\n",
    "import subprocess\n",
    "\n",
    "def install_packages():\n",
    "    packages = ['dash', 'pandas', 'plotly']\n",
    "    for package in packages:\n",
    "        subprocess.check_call([sys.executable, '-m', 'pip', 'install', package])\n",
    "    print(\"All packages installed successfully!\")\n",
    "    print(\"Please restart the kernel and run all cells\")\n",
    "\n",
    "install_packages()"
   ]
  },
  {
   "cell_type": "code",
   "execution_count": null,
   "id": "f5d6c2cf",
   "metadata": {},
   "outputs": [
    {
     "name": "stdout",
     "output_type": "stream",
     "text": [
      "All imports successful! Proceeding with dashboard setup...\n"
     ]
    }
   ],
   "source": [
    "# Import required libraries with error handling\n",
    "try:\n",
    "    import pandas as pd\n",
    "    import plotly.express as px\n",
    "    from dash import Dash, dcc, html\n",
    "    from dash.dependencies import Input, Output\n",
    "    print(\"All imports successful! Proceeding with dashboard setup...\")\n",
    "except ImportError as e:\n",
    "    print(f\"Error: {e}\")\n",
    "    print(\"Please make sure you've restarted the kernel after package installation\")\n",
    "    raise"
   ]
  },
  {
   "cell_type": "code",
   "execution_count": 9,
   "id": "ff4410f4",
   "metadata": {},
   "outputs": [
    {
     "name": "stdout",
     "output_type": "stream",
     "text": [
      "Data processed successfully!\n"
     ]
    }
   ],
   "source": [
    "# Load and prepare data\n",
    "df = pd.read_csv(r\"F:\\Git\\Internship\\dataset\\clean_retail_data.csv\")\n",
    "\n",
    "# Process data\n",
    "df['InvoiceDate'] = pd.to_datetime(df['InvoiceDate'])\n",
    "df['Hour'] = df['InvoiceDate'].dt.hour\n",
    "df['Month'] = df['InvoiceDate'].dt.month\n",
    "df['Year'] = df['InvoiceDate'].dt.year\n",
    "df['Sales'] = df['Quantity'] * df['UnitPrice']\n",
    "\n",
    "# Calculate key metrics\n",
    "total_sales = df['Sales'].sum()\n",
    "total_customers = df['CustomerID'].nunique()\n",
    "total_products = df['Description'].nunique()\n",
    "\n",
    "print(\"Data processed successfully!\")"
   ]
  },
  {
   "cell_type": "code",
   "execution_count": 12,
   "id": "57756b8a",
   "metadata": {},
   "outputs": [
    {
     "name": "stdout",
     "output_type": "stream",
     "text": [
      "Starting dashboard server at http://127.0.0.1:8050/\n"
     ]
    },
    {
     "data": {
      "text/html": [
       "\n",
       "        <iframe\n",
       "            width=\"100%\"\n",
       "            height=\"650\"\n",
       "            src=\"http://127.0.0.1:8050/\"\n",
       "            frameborder=\"0\"\n",
       "            allowfullscreen\n",
       "            \n",
       "        ></iframe>\n",
       "        "
      ],
      "text/plain": [
       "<IPython.lib.display.IFrame at 0x29c8c309610>"
      ]
     },
     "metadata": {},
     "output_type": "display_data"
    }
   ],
   "source": [
    "# Initialize dashboard with Dash\n",
    "app = Dash(__name__)\n",
    "\n",
    "# Layout with Bootstrap CSS\n",
    "app.layout = html.Div([\n",
    "    # Title\n",
    "    html.H1(\"Retail Analytics Dashboard\", style={'textAlign': 'center', 'color': '#2c3e50', 'marginBottom': 30}),\n",
    "    \n",
    "    # Filters row\n",
    "    html.Div([\n",
    "        html.Div([\n",
    "            html.Label(\"Select Country:\"),\n",
    "            dcc.Dropdown(\n",
    "                id='country-filter',\n",
    "                options=[{'label': x, 'value': x} for x in sorted(df['Country'].unique())],\n",
    "                value='United Kingdom',\n",
    "                clearable=False\n",
    "            )\n",
    "        ], style={'width': '30%', 'display': 'inline-block'}),\n",
    "        \n",
    "        html.Div([\n",
    "            html.Label(\"Select Time Period:\"),\n",
    "            dcc.DatePickerRange(\n",
    "                id='date-range',\n",
    "                start_date=df['InvoiceDate'].min(),\n",
    "                end_date=df['InvoiceDate'].max()\n",
    "            )\n",
    "        ], style={'width': '40%', 'display': 'inline-block', 'marginLeft': '5%'})\n",
    "    ], style={'marginBottom': 30}),\n",
    "    \n",
    "    # KPI Cards\n",
    "    html.Div([\n",
    "        html.Div([\n",
    "            html.H4(id='total-sales'),\n",
    "            html.P(\"Total Sales\")\n",
    "        ], className='kpi-card'),\n",
    "        html.Div([\n",
    "            html.H4(id='avg-order'),\n",
    "            html.P(\"Average Order Value\")\n",
    "        ], className='kpi-card'),\n",
    "        html.Div([\n",
    "            html.H4(id='total-customers'),\n",
    "            html.P(\"Total Customers\")\n",
    "        ], className='kpi-card')\n",
    "    ], style={'display': 'flex', 'justifyContent': 'space-between', 'marginBottom': 30}),\n",
    "    \n",
    "    # Charts\n",
    "    html.Div([\n",
    "        dcc.Graph(id='sales-trend'),\n",
    "        dcc.Graph(id='top-products')\n",
    "    ], style={'display': 'flex', 'flexWrap': 'wrap'}),\n",
    "    \n",
    "    html.Div([\n",
    "        dcc.Graph(id='hourly-sales'),\n",
    "        dcc.Graph(id='country-sales')\n",
    "    ], style={'display': 'flex', 'flexWrap': 'wrap'})\n",
    "])\n",
    "\n",
    "# Callbacks\n",
    "@app.callback(\n",
    "    [Output('sales-trend', 'figure'),\n",
    "     Output('top-products', 'figure'),\n",
    "     Output('hourly-sales', 'figure'),\n",
    "     Output('country-sales', 'figure'),\n",
    "     Output('total-sales', 'children'),\n",
    "     Output('avg-order', 'children'),\n",
    "     Output('total-customers', 'children')],\n",
    "    [Input('country-filter', 'value'),\n",
    "     Input('date-range', 'start_date'),\n",
    "     Input('date-range', 'end_date')]\n",
    ")\n",
    "def update_dashboard(country, start_date, end_date):\n",
    "    # Filter data\n",
    "    mask = (df['Country'] == country) & \\\n",
    "           (df['InvoiceDate'] >= start_date) & \\\n",
    "           (df['InvoiceDate'] <= end_date)\n",
    "    filtered_df = df[mask]\n",
    "    \n",
    "    # Sales Trend\n",
    "    sales_trend = filtered_df.resample('M', on='InvoiceDate')['Sales'].sum().reset_index()\n",
    "    fig1 = px.line(sales_trend, x='InvoiceDate', y='Sales', \n",
    "                   title='Monthly Sales Trend')\n",
    "    \n",
    "    # Top Products\n",
    "    top_products = filtered_df.groupby('Description')['Sales'].sum().nlargest(10)\n",
    "    fig2 = px.bar(top_products, title='Top 10 Products by Sales',\n",
    "                  orientation='h')\n",
    "    \n",
    "    # Hourly Sales Pattern\n",
    "    hourly_sales = filtered_df.groupby('Hour')['Sales'].mean()\n",
    "    fig3 = px.line(hourly_sales, title='Average Sales by Hour')\n",
    "    \n",
    "    # Sales by Country\n",
    "    country_sales = filtered_df.groupby('Country')['Sales'].sum()\n",
    "    fig4 = px.bar(country_sales, title='Sales by Country')\n",
    "    \n",
    "    # KPI Values\n",
    "    total_sales = f\"£{filtered_df['Sales'].sum():,.0f}\"\n",
    "    avg_order = f\"£{filtered_df.groupby('InvoiceNo')['Sales'].sum().mean():,.2f}\"\n",
    "    total_customers = f\"{filtered_df['CustomerID'].nunique():,}\"\n",
    "    \n",
    "    return fig1, fig2, fig3, fig4, total_sales, avg_order, total_customers\n",
    "\n",
    "if __name__ == '__main__':\n",
    "    print(\"Starting dashboard server at http://127.0.0.1:8050/\")\n",
    "    app.run(host='127.0.0.1', port=8050, debug=True)"
   ]
  }
 ],
 "metadata": {
  "kernelspec": {
   "display_name": "Python 3",
   "language": "python",
   "name": "python3"
  },
  "language_info": {
   "codemirror_mode": {
    "name": "ipython",
    "version": 3
   },
   "file_extension": ".py",
   "mimetype": "text/x-python",
   "name": "python",
   "nbconvert_exporter": "python",
   "pygments_lexer": "ipython3",
   "version": "3.11.5"
  }
 },
 "nbformat": 4,
 "nbformat_minor": 5
}
